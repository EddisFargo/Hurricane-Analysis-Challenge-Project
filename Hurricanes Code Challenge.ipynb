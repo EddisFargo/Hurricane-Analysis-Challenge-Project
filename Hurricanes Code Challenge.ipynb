{
 "cells": [
  {
   "cell_type": "code",
   "execution_count": 85,
   "id": "ba720e70",
   "metadata": {},
   "outputs": [],
   "source": [
    "# names of hurricanes\n",
    "names = ['Cuba I', 'San Felipe II Okeechobee', 'Bahamas', 'Cuba II', \n",
    "         'CubaBrownsville', 'Tampico', 'Labor Day', 'New England', 'Carol',\n",
    "         'Janet', 'Carla', 'Hattie', 'Beulah', 'Camille', 'Edith', 'Anita', 'David',\n",
    "         'Allen', 'Gilbert', 'Hugo', 'Andrew', 'Mitch', 'Isabel', 'Ivan', 'Emily', 'Katrina',\n",
    "         'Rita', 'Wilma', 'Dean', 'Felix', 'Matthew', 'Irma', 'Maria', 'Michael']"
   ]
  },
  {
   "cell_type": "code",
   "execution_count": 3,
   "id": "ed3eefe9",
   "metadata": {},
   "outputs": [],
   "source": [
    "# months of hurricanes\n",
    "months = ['October', 'September', 'September', 'November', 'August', \n",
    "          'September', 'September', 'September', 'September', 'September',\n",
    "          'September', 'October', 'September', 'August', 'September', 'September',\n",
    "          'August', 'August', 'September', 'September', 'August', 'October', 'September',\n",
    "          'September', 'July', 'August', 'September', 'October', 'August', 'September',\n",
    "          'October', 'September', 'September', 'October']"
   ]
  },
  {
   "cell_type": "code",
   "execution_count": 4,
   "id": "3513f4b8",
   "metadata": {},
   "outputs": [],
   "source": [
    "# years of hurricanes\n",
    "years = [1924, 1928, 1932, 1932, 1933, 1933, 1935, 1938, 1953, 1955,\n",
    "         1961, 1961, 1967, 1969, 1971, 1977, 1979, 1980, 1988, 1989,\n",
    "         1992, 1998, 2003, 2004, 2005, 2005, 2005, 2005, 2007, 2007,\n",
    "         2016, 2017, 2017, 2018]"
   ]
  },
  {
   "cell_type": "code",
   "execution_count": 5,
   "id": "cef71699",
   "metadata": {},
   "outputs": [],
   "source": [
    "# maximum sustained winds (mph) of hurricanes\n",
    "max_sustained_winds = [165, 160, 160, 175, 160, 160, 185, 160,\n",
    "                       160, 175, 175, 160, 160, 175, 160, 175, 175, 190,\n",
    "                       185, 160, 175, 180, 165, 165, 160, 175, 180, 185, \n",
    "                       175, 175, 165, 180, 175, 160]"
   ]
  },
  {
   "cell_type": "code",
   "execution_count": 6,
   "id": "c1f2e2d4",
   "metadata": {},
   "outputs": [],
   "source": [
    "# areas affected by each hurricane\n",
    "areas_affected = [['Central America', 'Mexico', 'Cuba', 'Florida', 'The Bahamas'],\n",
    "                  ['Lesser Antilles', 'The Bahamas', 'United States East Coast', 'Atlantic Canada'],\n",
    "                  ['The Bahamas', 'Northeastern United States'],\n",
    "                  ['Lesser Antilles', 'Jamaica', 'Cayman Islands', 'Cuba', 'The Bahamas', 'Bermuda'], \n",
    "                  ['The Bahamas', 'Cuba', 'Florida', 'Texas', 'Tamaulipas'],\n",
    "                  ['Jamaica', 'Yucatn Peninsula'],\n",
    "                  ['The Bahamas', 'Florida', 'Georgia', 'The Carolinas', 'Virginia'], \n",
    "                  ['Southeastern United States', 'Northeastern United States', 'Southwestern Quebec'],\n",
    "                  ['Bermuda', 'New England', 'Atlantic Canada'], \n",
    "                  ['Lesser Antilles', 'Central America'],\n",
    "                  ['Texas', 'Louisiana', 'Midwestern United States'], \n",
    "                  ['Central America'], ['The Caribbean', 'Mexico', 'Texas'], \n",
    "                  ['Cuba', 'United States Gulf Coast'], \n",
    "                  ['The Caribbean', 'Central America', 'Mexico', 'United States Gulf Coast'], \n",
    "                  ['Mexico'], ['The Caribbean', 'United States East coast'], \n",
    "                  ['The Caribbean', 'Yucatn Peninsula', 'Mexico', 'South Texas'], \n",
    "                  ['Jamaica', 'Venezuela', 'Central America', 'Hispaniola', 'Mexico'], \n",
    "                  ['The Caribbean', 'United States East Coast'], \n",
    "                  ['The Bahamas', 'Florida', 'United States Gulf Coast'], \n",
    "                  ['Central America', 'Yucatn Peninsula', 'South Florida'], \n",
    "                  ['Greater Antilles', 'Bahamas', 'Eastern United States', 'Ontario'], \n",
    "                  ['The Caribbean', 'Venezuela', 'United States Gulf Coast'],\n",
    "                  ['Windward Islands', 'Jamaica', 'Mexico', 'Texas'], \n",
    "                  ['Bahamas', 'United States Gulf Coast'], ['Cuba', 'United States Gulf Coast'],\n",
    "                  ['Greater Antilles', 'Central America', 'Florida'],\n",
    "                  ['The Caribbean', 'Central America'], ['Nicaragua', 'Honduras'],\n",
    "                  ['Antilles', 'Venezuela', 'Colombia', 'United States East Coast', 'Atlantic Canada'],\n",
    "                  ['Cape Verde', 'The Caribbean', 'British Virgin Islands', 'U.S. Virgin Islands', 'Cuba', 'Florida'],\n",
    "                  ['Lesser Antilles', 'Virgin Islands', 'Puerto Rico', 'Dominican Republic', 'Turks and Caicos Islands'], \n",
    "                  ['Central America', 'United States Gulf Coast (especially Florida Panhandle)']]"
   ]
  },
  {
   "cell_type": "code",
   "execution_count": 86,
   "id": "e9655d2f",
   "metadata": {},
   "outputs": [],
   "source": [
    "# damages (USD($)) of hurricanes\n",
    "damages = ['Damages not recorded', '100M', 'Damages not recorded', '40M', '27.9M', '5M',\n",
    "           'Damages not recorded', '306M', '2M', '65.8M', '326M', '60.3M', '208M', '1.42B', \n",
    "           '25.4M', 'Damages not recorded', '1.54B', '1.24B', '7.1B', '10B', '26.5B', '6.2B', \n",
    "           '5.37B', '23.3B', '1.01B', '125B', '12B', '29.4B', '1.76B', '720M', '15.1B', '64.8B', \n",
    "           '91.6B', '25.1B']"
   ]
  },
  {
   "cell_type": "code",
   "execution_count": 87,
   "id": "538fae68",
   "metadata": {},
   "outputs": [],
   "source": [
    "# deaths for each hurricane\n",
    "deaths = [90,4000,16,3103,179,184,408,682,5,1023,43,319,688,259,\n",
    "          37,11,2068,269,318,107,65,19325,51,124,17,1836,125,87,45,133,603,138,3057,74]"
   ]
  },
  {
   "cell_type": "code",
   "execution_count": 88,
   "id": "84a3d8f0",
   "metadata": {},
   "outputs": [],
   "source": [
    "# write your update damages function here:\n",
    "def str_to_float(string):\n",
    "    newfloat = string\n",
    "    if string[-1] == \"M\": \n",
    "        newfloat = float(string[:-1])*1000000\n",
    "    elif string[-1] == \"B\": \n",
    "        newfloat = float(string[:-1])*1000000000                     \n",
    "    return newfloat"
   ]
  },
  {
   "cell_type": "code",
   "execution_count": 89,
   "id": "c0559ffa",
   "metadata": {},
   "outputs": [],
   "source": [
    "for i in range(len(damages)):\n",
    "    damages[i] = str_to_float(damages[i])"
   ]
  },
  {
   "cell_type": "code",
   "execution_count": 113,
   "id": "11b5c2db",
   "metadata": {},
   "outputs": [
    {
     "name": "stdout",
     "output_type": "stream",
     "text": [
      "['Damages not recorded', 100000000.0, 'Damages not recorded', 40000000.0, 27900000.0, 5000000.0, 'Damages not recorded', 306000000.0, 2000000.0, 65800000.0, 326000000.0, 60300000.0, 208000000.0, 1420000000.0, 25400000.0, 'Damages not recorded', 1540000000.0, 1240000000.0, 7100000000.0, 10000000000.0, 26500000000.0, 6200000000.0, 5370000000.0, 23300000000.0, 1010000000.0, 125000000000.0, 12000000000.0, 29400000000.0, 1760000000.0, 720000000.0, 15100000000.0, 64800000000.0, 91600000000.0, 25100000000.0]\n"
     ]
    }
   ],
   "source": [
    "print(damages)"
   ]
  },
  {
   "cell_type": "code",
   "execution_count": 18,
   "id": "5900698b",
   "metadata": {},
   "outputs": [],
   "source": [
    "def hurricane_dict(names, months, years, max_sustained_winds, areas_affected, damages, deaths):\n",
    "    hurricane = {}\n",
    "    for i in range(len(names)):\n",
    "        hurricane.update({names[i]: {\"Name\": names[i], \"Month\": months[i], \n",
    "                                     \"Year\": years[i], \"Max Sustained Wind\": max_sustained_winds[i],\n",
    "                                     \"Areas affected\": areas_affected[i], \"Damage\": damages[i], \n",
    "                                     \"Deaths\": deaths[i]}})\n",
    "    return hurricane"
   ]
  },
  {
   "cell_type": "code",
   "execution_count": 136,
   "id": "e74c512c",
   "metadata": {},
   "outputs": [
    {
     "name": "stdout",
     "output_type": "stream",
     "text": [
      "{'Cuba I': {'Name': 'Cuba I', 'Month': 'October', 'Year': 1924, 'Max Sustained Wind': 165, 'Areas affected': ['Central America', 'Mexico', 'Cuba', 'Florida', 'The Bahamas'], 'Damage': 'Damages not recorded', 'Deaths': 90}, 'San Felipe II Okeechobee': {'Name': 'San Felipe II Okeechobee', 'Month': 'September', 'Year': 1928, 'Max Sustained Wind': 160, 'Areas affected': ['Lesser Antilles', 'The Bahamas', 'United States East Coast', 'Atlantic Canada'], 'Damage': 100000000.0, 'Deaths': 4000}, 'Bahamas': {'Name': 'Bahamas', 'Month': 'September', 'Year': 1932, 'Max Sustained Wind': 160, 'Areas affected': ['The Bahamas', 'Northeastern United States'], 'Damage': 'Damages not recorded', 'Deaths': 16}, 'Cuba II': {'Name': 'Cuba II', 'Month': 'November', 'Year': 1932, 'Max Sustained Wind': 175, 'Areas affected': ['Lesser Antilles', 'Jamaica', 'Cayman Islands', 'Cuba', 'The Bahamas', 'Bermuda'], 'Damage': 40000000.0, 'Deaths': 3103}, 'CubaBrownsville': {'Name': 'CubaBrownsville', 'Month': 'August', 'Year': 1933, 'Max Sustained Wind': 160, 'Areas affected': ['The Bahamas', 'Cuba', 'Florida', 'Texas', 'Tamaulipas'], 'Damage': 27900000.0, 'Deaths': 179}, 'Tampico': {'Name': 'Tampico', 'Month': 'September', 'Year': 1933, 'Max Sustained Wind': 160, 'Areas affected': ['Jamaica', 'Yucatn Peninsula'], 'Damage': 5000000.0, 'Deaths': 184}, 'Labor Day': {'Name': 'Labor Day', 'Month': 'September', 'Year': 1935, 'Max Sustained Wind': 185, 'Areas affected': ['The Bahamas', 'Florida', 'Georgia', 'The Carolinas', 'Virginia'], 'Damage': 'Damages not recorded', 'Deaths': 408}, 'New England': {'Name': 'New England', 'Month': 'September', 'Year': 1938, 'Max Sustained Wind': 160, 'Areas affected': ['Southeastern United States', 'Northeastern United States', 'Southwestern Quebec'], 'Damage': 306000000.0, 'Deaths': 682}, 'Carol': {'Name': 'Carol', 'Month': 'September', 'Year': 1953, 'Max Sustained Wind': 160, 'Areas affected': ['Bermuda', 'New England', 'Atlantic Canada'], 'Damage': 2000000.0, 'Deaths': 5}, 'Janet': {'Name': 'Janet', 'Month': 'September', 'Year': 1955, 'Max Sustained Wind': 175, 'Areas affected': ['Lesser Antilles', 'Central America'], 'Damage': 65800000.0, 'Deaths': 1023}, 'Carla': {'Name': 'Carla', 'Month': 'September', 'Year': 1961, 'Max Sustained Wind': 175, 'Areas affected': ['Texas', 'Louisiana', 'Midwestern United States'], 'Damage': 326000000.0, 'Deaths': 43}, 'Hattie': {'Name': 'Hattie', 'Month': 'October', 'Year': 1961, 'Max Sustained Wind': 160, 'Areas affected': ['Central America'], 'Damage': 60300000.0, 'Deaths': 319}, 'Beulah': {'Name': 'Beulah', 'Month': 'September', 'Year': 1967, 'Max Sustained Wind': 160, 'Areas affected': ['The Caribbean', 'Mexico', 'Texas'], 'Damage': 208000000.0, 'Deaths': 688}, 'Camille': {'Name': 'Camille', 'Month': 'August', 'Year': 1969, 'Max Sustained Wind': 175, 'Areas affected': ['Cuba', 'United States Gulf Coast'], 'Damage': 1420000000.0, 'Deaths': 259}, 'Edith': {'Name': 'Edith', 'Month': 'September', 'Year': 1971, 'Max Sustained Wind': 160, 'Areas affected': ['The Caribbean', 'Central America', 'Mexico', 'United States Gulf Coast'], 'Damage': 25400000.0, 'Deaths': 37}, 'Anita': {'Name': 'Anita', 'Month': 'September', 'Year': 1977, 'Max Sustained Wind': 175, 'Areas affected': ['Mexico'], 'Damage': 'Damages not recorded', 'Deaths': 11}, 'David': {'Name': 'David', 'Month': 'August', 'Year': 1979, 'Max Sustained Wind': 175, 'Areas affected': ['The Caribbean', 'United States East coast'], 'Damage': 1540000000.0, 'Deaths': 2068}, 'Allen': {'Name': 'Allen', 'Month': 'August', 'Year': 1980, 'Max Sustained Wind': 190, 'Areas affected': ['The Caribbean', 'Yucatn Peninsula', 'Mexico', 'South Texas'], 'Damage': 1240000000.0, 'Deaths': 269}, 'Gilbert': {'Name': 'Gilbert', 'Month': 'September', 'Year': 1988, 'Max Sustained Wind': 185, 'Areas affected': ['Jamaica', 'Venezuela', 'Central America', 'Hispaniola', 'Mexico'], 'Damage': 7100000000.0, 'Deaths': 318}, 'Hugo': {'Name': 'Hugo', 'Month': 'September', 'Year': 1989, 'Max Sustained Wind': 160, 'Areas affected': ['The Caribbean', 'United States East Coast'], 'Damage': 10000000000.0, 'Deaths': 107}, 'Andrew': {'Name': 'Andrew', 'Month': 'August', 'Year': 1992, 'Max Sustained Wind': 175, 'Areas affected': ['The Bahamas', 'Florida', 'United States Gulf Coast'], 'Damage': 26500000000.0, 'Deaths': 65}, 'Mitch': {'Name': 'Mitch', 'Month': 'October', 'Year': 1998, 'Max Sustained Wind': 180, 'Areas affected': ['Central America', 'Yucatn Peninsula', 'South Florida'], 'Damage': 6200000000.0, 'Deaths': 19325}, 'Isabel': {'Name': 'Isabel', 'Month': 'September', 'Year': 2003, 'Max Sustained Wind': 165, 'Areas affected': ['Greater Antilles', 'Bahamas', 'Eastern United States', 'Ontario'], 'Damage': 5370000000.0, 'Deaths': 51}, 'Ivan': {'Name': 'Ivan', 'Month': 'September', 'Year': 2004, 'Max Sustained Wind': 165, 'Areas affected': ['The Caribbean', 'Venezuela', 'United States Gulf Coast'], 'Damage': 23300000000.0, 'Deaths': 124}, 'Emily': {'Name': 'Emily', 'Month': 'July', 'Year': 2005, 'Max Sustained Wind': 160, 'Areas affected': ['Windward Islands', 'Jamaica', 'Mexico', 'Texas'], 'Damage': 1010000000.0, 'Deaths': 17}, 'Katrina': {'Name': 'Katrina', 'Month': 'August', 'Year': 2005, 'Max Sustained Wind': 175, 'Areas affected': ['Bahamas', 'United States Gulf Coast'], 'Damage': 125000000000.0, 'Deaths': 1836}, 'Rita': {'Name': 'Rita', 'Month': 'September', 'Year': 2005, 'Max Sustained Wind': 180, 'Areas affected': ['Cuba', 'United States Gulf Coast'], 'Damage': 12000000000.0, 'Deaths': 125}, 'Wilma': {'Name': 'Wilma', 'Month': 'October', 'Year': 2005, 'Max Sustained Wind': 185, 'Areas affected': ['Greater Antilles', 'Central America', 'Florida'], 'Damage': 29400000000.0, 'Deaths': 87}, 'Dean': {'Name': 'Dean', 'Month': 'August', 'Year': 2007, 'Max Sustained Wind': 175, 'Areas affected': ['The Caribbean', 'Central America'], 'Damage': 1760000000.0, 'Deaths': 45}, 'Felix': {'Name': 'Felix', 'Month': 'September', 'Year': 2007, 'Max Sustained Wind': 175, 'Areas affected': ['Nicaragua', 'Honduras'], 'Damage': 720000000.0, 'Deaths': 133}, 'Matthew': {'Name': 'Matthew', 'Month': 'October', 'Year': 2016, 'Max Sustained Wind': 165, 'Areas affected': ['Antilles', 'Venezuela', 'Colombia', 'United States East Coast', 'Atlantic Canada'], 'Damage': 15100000000.0, 'Deaths': 603}, 'Irma': {'Name': 'Irma', 'Month': 'September', 'Year': 2017, 'Max Sustained Wind': 180, 'Areas affected': ['Cape Verde', 'The Caribbean', 'British Virgin Islands', 'U.S. Virgin Islands', 'Cuba', 'Florida'], 'Damage': 64800000000.0, 'Deaths': 138}, 'Maria': {'Name': 'Maria', 'Month': 'September', 'Year': 2017, 'Max Sustained Wind': 175, 'Areas affected': ['Lesser Antilles', 'Virgin Islands', 'Puerto Rico', 'Dominican Republic', 'Turks and Caicos Islands'], 'Damage': 91600000000.0, 'Deaths': 3057}, 'Michael': {'Name': 'Michael', 'Month': 'October', 'Year': 2018, 'Max Sustained Wind': 160, 'Areas affected': ['Central America', 'United States Gulf Coast (especially Florida Panhandle)'], 'Damage': 25100000000.0, 'Deaths': 74}}\n"
     ]
    }
   ],
   "source": [
    "hurricane_names = hurricane_dict(names, months, years, max_sustained_winds, areas_affected, damages, deaths)\n",
    "print(hurricane_names)"
   ]
  },
  {
   "cell_type": "code",
   "execution_count": 66,
   "id": "03610540",
   "metadata": {},
   "outputs": [],
   "source": [
    "def hurricane_by_year(h_by_name):\n",
    "    h_by_year = {}\n",
    "    for info in h_by_name.values():\n",
    "        if info[\"Year\"] not in h_by_year:\n",
    "            h_by_year.update({info[\"Year\"]: {\"Name\": info[\"Name\"], \n",
    "                                             \"Month\": info[\"Month\"], \"Year\": info[\"Year\"], \n",
    "                                             \"Max Sustained Wind\": info[\"Max Sustained Wind\"], \n",
    "                                             \"Areas affected\": info[\"Areas affected\"], \n",
    "                                             \"Damage\": info[\"Damage\"], \"Deaths\": info[\"Deaths\"]}})\n",
    "        else:\n",
    "            h_by_year.update({info[\"Year\"]: [h_by_year[info[\"Year\"]], \n",
    "                                             {info[\"Year\"]: {\"Name\": info[\"Name\"], \n",
    "                                                             \"Month\": info[\"Month\"], \n",
    "                                                             \"Year\": info[\"Year\"], \n",
    "                                                             \"Max Sustained Wind\": info[\"Max Sustained Wind\"],\n",
    "                                                             \"Areas affected\": info[\"Areas affected\"],\n",
    "                                                             \"Damage\": info[\"Damage\"], \"Deaths\": info[\"Deaths\"]}}]})\n",
    "    return h_by_year"
   ]
  },
  {
   "cell_type": "code",
   "execution_count": 137,
   "id": "3708df4a",
   "metadata": {},
   "outputs": [
    {
     "name": "stdout",
     "output_type": "stream",
     "text": [
      "{1924: {'Name': 'Cuba I', 'Month': 'October', 'Year': 1924, 'Max Sustained Wind': 165, 'Areas affected': ['Central America', 'Mexico', 'Cuba', 'Florida', 'The Bahamas'], 'Damage': 'Damages not recorded', 'Deaths': 90}, 1928: {'Name': 'San Felipe II Okeechobee', 'Month': 'September', 'Year': 1928, 'Max Sustained Wind': 160, 'Areas affected': ['Lesser Antilles', 'The Bahamas', 'United States East Coast', 'Atlantic Canada'], 'Damage': 100000000.0, 'Deaths': 4000}, 1932: [{'Name': 'Bahamas', 'Month': 'September', 'Year': 1932, 'Max Sustained Wind': 160, 'Areas affected': ['The Bahamas', 'Northeastern United States'], 'Damage': 'Damages not recorded', 'Deaths': 16}, {1932: {'Name': 'Cuba II', 'Month': 'November', 'Year': 1932, 'Max Sustained Wind': 175, 'Areas affected': ['Lesser Antilles', 'Jamaica', 'Cayman Islands', 'Cuba', 'The Bahamas', 'Bermuda'], 'Damage': 40000000.0, 'Deaths': 3103}}], 1933: [{'Name': 'CubaBrownsville', 'Month': 'August', 'Year': 1933, 'Max Sustained Wind': 160, 'Areas affected': ['The Bahamas', 'Cuba', 'Florida', 'Texas', 'Tamaulipas'], 'Damage': 27900000.0, 'Deaths': 179}, {1933: {'Name': 'Tampico', 'Month': 'September', 'Year': 1933, 'Max Sustained Wind': 160, 'Areas affected': ['Jamaica', 'Yucatn Peninsula'], 'Damage': 5000000.0, 'Deaths': 184}}], 1935: {'Name': 'Labor Day', 'Month': 'September', 'Year': 1935, 'Max Sustained Wind': 185, 'Areas affected': ['The Bahamas', 'Florida', 'Georgia', 'The Carolinas', 'Virginia'], 'Damage': 'Damages not recorded', 'Deaths': 408}, 1938: {'Name': 'New England', 'Month': 'September', 'Year': 1938, 'Max Sustained Wind': 160, 'Areas affected': ['Southeastern United States', 'Northeastern United States', 'Southwestern Quebec'], 'Damage': 306000000.0, 'Deaths': 682}, 1953: {'Name': 'Carol', 'Month': 'September', 'Year': 1953, 'Max Sustained Wind': 160, 'Areas affected': ['Bermuda', 'New England', 'Atlantic Canada'], 'Damage': 2000000.0, 'Deaths': 5}, 1955: {'Name': 'Janet', 'Month': 'September', 'Year': 1955, 'Max Sustained Wind': 175, 'Areas affected': ['Lesser Antilles', 'Central America'], 'Damage': 65800000.0, 'Deaths': 1023}, 1961: [{'Name': 'Carla', 'Month': 'September', 'Year': 1961, 'Max Sustained Wind': 175, 'Areas affected': ['Texas', 'Louisiana', 'Midwestern United States'], 'Damage': 326000000.0, 'Deaths': 43}, {1961: {'Name': 'Hattie', 'Month': 'October', 'Year': 1961, 'Max Sustained Wind': 160, 'Areas affected': ['Central America'], 'Damage': 60300000.0, 'Deaths': 319}}], 1967: {'Name': 'Beulah', 'Month': 'September', 'Year': 1967, 'Max Sustained Wind': 160, 'Areas affected': ['The Caribbean', 'Mexico', 'Texas'], 'Damage': 208000000.0, 'Deaths': 688}, 1969: {'Name': 'Camille', 'Month': 'August', 'Year': 1969, 'Max Sustained Wind': 175, 'Areas affected': ['Cuba', 'United States Gulf Coast'], 'Damage': 1420000000.0, 'Deaths': 259}, 1971: {'Name': 'Edith', 'Month': 'September', 'Year': 1971, 'Max Sustained Wind': 160, 'Areas affected': ['The Caribbean', 'Central America', 'Mexico', 'United States Gulf Coast'], 'Damage': 25400000.0, 'Deaths': 37}, 1977: {'Name': 'Anita', 'Month': 'September', 'Year': 1977, 'Max Sustained Wind': 175, 'Areas affected': ['Mexico'], 'Damage': 'Damages not recorded', 'Deaths': 11}, 1979: {'Name': 'David', 'Month': 'August', 'Year': 1979, 'Max Sustained Wind': 175, 'Areas affected': ['The Caribbean', 'United States East coast'], 'Damage': 1540000000.0, 'Deaths': 2068}, 1980: {'Name': 'Allen', 'Month': 'August', 'Year': 1980, 'Max Sustained Wind': 190, 'Areas affected': ['The Caribbean', 'Yucatn Peninsula', 'Mexico', 'South Texas'], 'Damage': 1240000000.0, 'Deaths': 269}, 1988: {'Name': 'Gilbert', 'Month': 'September', 'Year': 1988, 'Max Sustained Wind': 185, 'Areas affected': ['Jamaica', 'Venezuela', 'Central America', 'Hispaniola', 'Mexico'], 'Damage': 7100000000.0, 'Deaths': 318}, 1989: {'Name': 'Hugo', 'Month': 'September', 'Year': 1989, 'Max Sustained Wind': 160, 'Areas affected': ['The Caribbean', 'United States East Coast'], 'Damage': 10000000000.0, 'Deaths': 107}, 1992: {'Name': 'Andrew', 'Month': 'August', 'Year': 1992, 'Max Sustained Wind': 175, 'Areas affected': ['The Bahamas', 'Florida', 'United States Gulf Coast'], 'Damage': 26500000000.0, 'Deaths': 65}, 1998: {'Name': 'Mitch', 'Month': 'October', 'Year': 1998, 'Max Sustained Wind': 180, 'Areas affected': ['Central America', 'Yucatn Peninsula', 'South Florida'], 'Damage': 6200000000.0, 'Deaths': 19325}, 2003: {'Name': 'Isabel', 'Month': 'September', 'Year': 2003, 'Max Sustained Wind': 165, 'Areas affected': ['Greater Antilles', 'Bahamas', 'Eastern United States', 'Ontario'], 'Damage': 5370000000.0, 'Deaths': 51}, 2004: {'Name': 'Ivan', 'Month': 'September', 'Year': 2004, 'Max Sustained Wind': 165, 'Areas affected': ['The Caribbean', 'Venezuela', 'United States Gulf Coast'], 'Damage': 23300000000.0, 'Deaths': 124}, 2005: [[[{'Name': 'Emily', 'Month': 'July', 'Year': 2005, 'Max Sustained Wind': 160, 'Areas affected': ['Windward Islands', 'Jamaica', 'Mexico', 'Texas'], 'Damage': 1010000000.0, 'Deaths': 17}, {2005: {'Name': 'Katrina', 'Month': 'August', 'Year': 2005, 'Max Sustained Wind': 175, 'Areas affected': ['Bahamas', 'United States Gulf Coast'], 'Damage': 125000000000.0, 'Deaths': 1836}}], {2005: {'Name': 'Rita', 'Month': 'September', 'Year': 2005, 'Max Sustained Wind': 180, 'Areas affected': ['Cuba', 'United States Gulf Coast'], 'Damage': 12000000000.0, 'Deaths': 125}}], {2005: {'Name': 'Wilma', 'Month': 'October', 'Year': 2005, 'Max Sustained Wind': 185, 'Areas affected': ['Greater Antilles', 'Central America', 'Florida'], 'Damage': 29400000000.0, 'Deaths': 87}}], 2007: [{'Name': 'Dean', 'Month': 'August', 'Year': 2007, 'Max Sustained Wind': 175, 'Areas affected': ['The Caribbean', 'Central America'], 'Damage': 1760000000.0, 'Deaths': 45}, {2007: {'Name': 'Felix', 'Month': 'September', 'Year': 2007, 'Max Sustained Wind': 175, 'Areas affected': ['Nicaragua', 'Honduras'], 'Damage': 720000000.0, 'Deaths': 133}}], 2016: {'Name': 'Matthew', 'Month': 'October', 'Year': 2016, 'Max Sustained Wind': 165, 'Areas affected': ['Antilles', 'Venezuela', 'Colombia', 'United States East Coast', 'Atlantic Canada'], 'Damage': 15100000000.0, 'Deaths': 603}, 2017: [{'Name': 'Irma', 'Month': 'September', 'Year': 2017, 'Max Sustained Wind': 180, 'Areas affected': ['Cape Verde', 'The Caribbean', 'British Virgin Islands', 'U.S. Virgin Islands', 'Cuba', 'Florida'], 'Damage': 64800000000.0, 'Deaths': 138}, {2017: {'Name': 'Maria', 'Month': 'September', 'Year': 2017, 'Max Sustained Wind': 175, 'Areas affected': ['Lesser Antilles', 'Virgin Islands', 'Puerto Rico', 'Dominican Republic', 'Turks and Caicos Islands'], 'Damage': 91600000000.0, 'Deaths': 3057}}], 2018: {'Name': 'Michael', 'Month': 'October', 'Year': 2018, 'Max Sustained Wind': 160, 'Areas affected': ['Central America', 'United States Gulf Coast (especially Florida Panhandle)'], 'Damage': 25100000000.0, 'Deaths': 74}}\n"
     ]
    }
   ],
   "source": [
    "hurricane_years = hurricane_by_year(hurricane_names)\n",
    "print(hurricane_years)"
   ]
  },
  {
   "cell_type": "code",
   "execution_count": 74,
   "id": "70480e7a",
   "metadata": {},
   "outputs": [],
   "source": [
    "def hurricane_area_count(hurricanes):\n",
    "    counts = {}\n",
    "    for info in hurricanes.values():\n",
    "        for location in info[\"Areas affected\"]:\n",
    "            if location not in counts:\n",
    "                counts.update({location: 1})\n",
    "            else:\n",
    "                counts.update({location: counts[location] + 1})\n",
    "    return counts\n",
    "        "
   ]
  },
  {
   "cell_type": "code",
   "execution_count": 75,
   "id": "2b2e2e65",
   "metadata": {},
   "outputs": [
    {
     "name": "stdout",
     "output_type": "stream",
     "text": [
      "{'Central America': 9, 'Mexico': 7, 'Cuba': 6, 'Florida': 6, 'The Bahamas': 7, 'Lesser Antilles': 4, 'United States East Coast': 3, 'Atlantic Canada': 3, 'Northeastern United States': 2, 'Jamaica': 4, 'Cayman Islands': 1, 'Bermuda': 2, 'Texas': 4, 'Tamaulipas': 1, 'Yucatn Peninsula': 3, 'Georgia': 1, 'The Carolinas': 1, 'Virginia': 1, 'Southeastern United States': 1, 'Southwestern Quebec': 1, 'New England': 1, 'Louisiana': 1, 'Midwestern United States': 1, 'The Caribbean': 8, 'United States Gulf Coast': 6, 'United States East coast': 1, 'South Texas': 1, 'Venezuela': 3, 'Hispaniola': 1, 'South Florida': 1, 'Greater Antilles': 2, 'Bahamas': 2, 'Eastern United States': 1, 'Ontario': 1, 'Windward Islands': 1, 'Nicaragua': 1, 'Honduras': 1, 'Antilles': 1, 'Colombia': 1, 'Cape Verde': 1, 'British Virgin Islands': 1, 'U.S. Virgin Islands': 1, 'Virgin Islands': 1, 'Puerto Rico': 1, 'Dominican Republic': 1, 'Turks and Caicos Islands': 1, 'United States Gulf Coast (especially Florida Panhandle)': 1}\n"
     ]
    }
   ],
   "source": [
    "area_counts = hurricane_area_count(hurricane_names)\n",
    "print(area_counts)"
   ]
  },
  {
   "cell_type": "code",
   "execution_count": 76,
   "id": "78016b73",
   "metadata": {},
   "outputs": [],
   "source": [
    "def hurricane_central(hurricanes):\n",
    "    max_value = 0\n",
    "    hardest_hit = \"\"\n",
    "    for area in hurricanes:\n",
    "        if hurricanes[area] > max_value:\n",
    "            max_value = hurricanes[area]\n",
    "            hardest_hit = area\n",
    "    return (hardest_hit, max_value)"
   ]
  },
  {
   "cell_type": "code",
   "execution_count": 77,
   "id": "31c6e4b4",
   "metadata": {},
   "outputs": [
    {
     "name": "stdout",
     "output_type": "stream",
     "text": [
      "('Central America', 9)\n"
     ]
    }
   ],
   "source": [
    "print(hurricane_central(area_counts))"
   ]
  },
  {
   "cell_type": "code",
   "execution_count": 110,
   "id": "45727b5d",
   "metadata": {},
   "outputs": [],
   "source": [
    "def most_fatal(hurricanes):\n",
    "    max_deaths = 0\n",
    "    worst_hurricane = \"\"\n",
    "    for hurricane in hurricanes.values():\n",
    "        if hurricane[\"Deaths\"] > max_deaths:\n",
    "            max_deaths = hurricane[\"Deaths\"]\n",
    "            worst_hurricane = hurricane\n",
    "    return (worst_hurricane[\"Name\"], max_deaths)\n",
    "        "
   ]
  },
  {
   "cell_type": "code",
   "execution_count": 140,
   "id": "181409f8",
   "metadata": {},
   "outputs": [
    {
     "name": "stdout",
     "output_type": "stream",
     "text": [
      "('Mitch', 19325)\n",
      "['Central America', 'Yucatn Peninsula', 'South Florida']\n"
     ]
    }
   ],
   "source": [
    "print(most_fatal(hurricane_names))"
   ]
  },
  {
   "cell_type": "code",
   "execution_count": 118,
   "id": "fb72b0c3",
   "metadata": {},
   "outputs": [],
   "source": [
    "def mortality_index(hurricanes):\n",
    "    mortality_scale = {0: 0,\n",
    "                   1: 100,\n",
    "                   2: 500,\n",
    "                   3: 1000,\n",
    "                   4: 10000}\n",
    "    scaled_hurricanes = {1: [], 2: [], 3: [], 4:[], 5:[]}\n",
    "    \n",
    "    for hurricane in hurricanes.values():\n",
    "        for i in range(1,5):\n",
    "            if hurricane[\"Deaths\"] < mortality_scale[i]:\n",
    "                index = i\n",
    "                break\n",
    "            else:\n",
    "                index = 5\n",
    "        scaled_hurricanes[index].append(hurricane[\"Name\"])\n",
    "    return(scaled_hurricanes)\n",
    "        \n",
    "    "
   ]
  },
  {
   "cell_type": "code",
   "execution_count": 119,
   "id": "48d3c0c6",
   "metadata": {},
   "outputs": [
    {
     "name": "stdout",
     "output_type": "stream",
     "text": [
      "{1: ['Cuba I', 'Bahamas', 'Carol', 'Carla', 'Edith', 'Anita', 'Andrew', 'Isabel', 'Emily', 'Wilma', 'Dean', 'Michael'], 2: ['CubaBrownsville', 'Tampico', 'Labor Day', 'Hattie', 'Camille', 'Allen', 'Gilbert', 'Hugo', 'Ivan', 'Rita', 'Felix', 'Irma'], 3: ['New England', 'Beulah', 'Matthew'], 4: ['San Felipe II Okeechobee', 'Cuba II', 'Janet', 'David', 'Katrina', 'Maria'], 5: ['Mitch']}\n"
     ]
    }
   ],
   "source": [
    "#print(list(zip(names, deaths)))\n",
    "print(mortality_index(hurricane_names))\n"
   ]
  },
  {
   "cell_type": "code",
   "execution_count": 116,
   "id": "55393d48",
   "metadata": {},
   "outputs": [],
   "source": [
    "def greatest_damage(hurricanes):\n",
    "    worst_hurricane = \"\"\n",
    "    max_cost = 0\n",
    "    \n",
    "    for hurricane in hurricanes.values():\n",
    "        if type(hurricane[\"Damage\"]) == float:\n",
    "            if hurricane[\"Damage\"] > max_cost:\n",
    "                max_cost = hurricane[\"Damage\"]\n",
    "                worst_hurricane = hurricane[\"Name\"]\n",
    "    return (worst_hurricane, max_cost)"
   ]
  },
  {
   "cell_type": "code",
   "execution_count": 158,
   "id": "9366971d",
   "metadata": {},
   "outputs": [
    {
     "name": "stdout",
     "output_type": "stream",
     "text": [
      "('Katrina', 125000000000.0)\n",
      "Damages not recorded\n",
      "100000000.0\n",
      "Damages not recorded\n",
      "40000000.0\n",
      "27900000.0\n",
      "5000000.0\n",
      "Damages not recorded\n",
      "306000000.0\n",
      "2000000.0\n",
      "65800000.0\n",
      "326000000.0\n",
      "60300000.0\n",
      "208000000.0\n",
      "1420000000.0\n",
      "25400000.0\n",
      "Damages not recorded\n",
      "1540000000.0\n",
      "1240000000.0\n",
      "7100000000.0\n",
      "10000000000.0\n",
      "26500000000.0\n",
      "6200000000.0\n",
      "5370000000.0\n",
      "23300000000.0\n",
      "1010000000.0\n",
      "125000000000.0\n",
      "12000000000.0\n",
      "29400000000.0\n",
      "1760000000.0\n",
      "720000000.0\n",
      "15100000000.0\n",
      "64800000000.0\n",
      "91600000000.0\n",
      "25100000000.0\n"
     ]
    }
   ],
   "source": [
    "print(greatest_damage(hurricane_names))\n",
    "#print(hurricane_names)\n",
    "for hurricane in hurricane_names.values():\n",
    "    print (hurricane[\"Damage\"])"
   ]
  },
  {
   "cell_type": "code",
   "execution_count": 165,
   "id": "be689727",
   "metadata": {},
   "outputs": [],
   "source": [
    "def damage_index(hurricanes):\n",
    "    damage_scale = {0: 0,\n",
    "                1: 100000000,\n",
    "                2: 1000000000,\n",
    "                3: 10000000000,\n",
    "                4: 50000000000}\n",
    "    scaled_hurricanes = {1: [], 2: [], 3: [], 4: [], 5: []}\n",
    "    for hurricane in hurricanes.values():\n",
    "        if type(hurricane[\"Damage\"]) != float:\n",
    "            continue\n",
    "        for i in range(1,5):\n",
    "            if hurricane[\"Damage\"] < damage_scale[i]:\n",
    "                index = i\n",
    "                break\n",
    "            else:\n",
    "                index = 5\n",
    "        scaled_hurricanes[index].append(hurricane[\"Name\"])\n",
    "    return(scaled_hurricanes)\n",
    "    \n",
    "    "
   ]
  },
  {
   "cell_type": "code",
   "execution_count": 167,
   "id": "61943a71",
   "metadata": {},
   "outputs": [
    {
     "name": "stdout",
     "output_type": "stream",
     "text": [
      "[('Cuba I', 'Damages not recorded'), ('San Felipe II Okeechobee', 100000000.0), ('Bahamas', 'Damages not recorded'), ('Cuba II', 40000000.0), ('CubaBrownsville', 27900000.0), ('Tampico', 5000000.0), ('Labor Day', 'Damages not recorded'), ('New England', 306000000.0), ('Carol', 2000000.0), ('Janet', 65800000.0), ('Carla', 326000000.0), ('Hattie', 60300000.0), ('Beulah', 208000000.0), ('Camille', 1420000000.0), ('Edith', 25400000.0), ('Anita', 'Damages not recorded'), ('David', 1540000000.0), ('Allen', 1240000000.0), ('Gilbert', 7100000000.0), ('Hugo', 10000000000.0), ('Andrew', 26500000000.0), ('Mitch', 6200000000.0), ('Isabel', 5370000000.0), ('Ivan', 23300000000.0), ('Emily', 1010000000.0), ('Katrina', 125000000000.0), ('Rita', 12000000000.0), ('Wilma', 29400000000.0), ('Dean', 1760000000.0), ('Felix', 720000000.0), ('Matthew', 15100000000.0), ('Irma', 64800000000.0), ('Maria', 91600000000.0), ('Michael', 25100000000.0)]\n",
      "{1: ['Cuba II', 'CubaBrownsville', 'Tampico', 'Carol', 'Janet', 'Hattie', 'Edith'], 2: ['San Felipe II Okeechobee', 'New England', 'Carla', 'Beulah', 'Felix'], 3: ['Camille', 'David', 'Allen', 'Gilbert', 'Mitch', 'Isabel', 'Emily', 'Dean'], 4: ['Hugo', 'Andrew', 'Ivan', 'Rita', 'Wilma', 'Matthew', 'Michael'], 5: ['Katrina', 'Irma', 'Maria']}\n"
     ]
    }
   ],
   "source": [
    "print(list(zip(names, damages)))\n",
    "print(damage_index(hurricane_names))"
   ]
  }
 ],
 "metadata": {
  "kernelspec": {
   "display_name": "Python 3 (ipykernel)",
   "language": "python",
   "name": "python3"
  },
  "language_info": {
   "codemirror_mode": {
    "name": "ipython",
    "version": 3
   },
   "file_extension": ".py",
   "mimetype": "text/x-python",
   "name": "python",
   "nbconvert_exporter": "python",
   "pygments_lexer": "ipython3",
   "version": "3.9.7"
  }
 },
 "nbformat": 4,
 "nbformat_minor": 5
}
